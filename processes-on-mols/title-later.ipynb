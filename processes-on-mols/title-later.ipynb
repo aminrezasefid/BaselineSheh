{
 "cells": [
  {
   "cell_type": "code",
   "execution_count": 5,
   "metadata": {},
   "outputs": [
    {
     "name": "stderr",
     "output_type": "stream",
     "text": [
      "[16:34:16] Warning: molecule is tagged as 3D, but all Z coords are zero and 2D stereo markers have been found, marking the mol as 2D.\n"
     ]
    }
   ],
   "source": [
    "from rdkit import Chem\n",
    "import os\n",
    "\n",
    "def combine_sdf_files(directory, output_file):\n",
    "    molecules = []\n",
    "    \n",
    "    # Iterate through all files in the directory\n",
    "    for filename in os.listdir(directory):\n",
    "        if filename.endswith(\".sdf\"):  # Check if the file is an sdf file\n",
    "            filepath = os.path.join(directory, filename)\n",
    "            # Read the sdf file\n",
    "            suppl = Chem.SDMolSupplier(filepath)\n",
    "            for mol in suppl:\n",
    "                # Add each molecule to the list\n",
    "                molecules.append(mol)\n",
    "    \n",
    "    # Write all molecules to a single sdf file\n",
    "    with Chem.SDWriter(output_file) as w:\n",
    "        for mol in molecules:\n",
    "            w.write(mol)\n",
    "\n",
    "# Specify the directory containing your sdf files and the output file\n",
    "directory = '/Users/sana/Downloads/qm8'\n",
    "output_file = 'qm8.sdf'\n",
    "\n",
    "combine_sdf_files(directory, output_file)"
   ]
  },
  {
   "cell_type": "code",
   "execution_count": null,
   "metadata": {},
   "outputs": [],
   "source": []
  }
 ],
 "metadata": {
  "kernelspec": {
   "display_name": "MPP",
   "language": "python",
   "name": "python3"
  },
  "language_info": {
   "codemirror_mode": {
    "name": "ipython",
    "version": 3
   },
   "file_extension": ".py",
   "mimetype": "text/x-python",
   "name": "python",
   "nbconvert_exporter": "python",
   "pygments_lexer": "ipython3",
   "version": "3.12.3"
  }
 },
 "nbformat": 4,
 "nbformat_minor": 2
}
