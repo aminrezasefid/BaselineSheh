{
 "cells": [
  {
   "cell_type": "code",
   "execution_count": 1,
   "metadata": {},
   "outputs": [],
   "source": [
    "import pandas as pd\n",
    "from rdkit import Chem\n",
    "from rdkit.Chem import AllChem\n",
    "from tqdm import tqdm\n",
    "import os"
   ]
  },
  {
   "cell_type": "code",
   "execution_count": 2,
   "metadata": {},
   "outputs": [
    {
     "name": "stderr",
     "output_type": "stream",
     "text": [
      "100%|██████████| 642/642 [00:03<00:00, 176.42it/s]\n"
     ]
    }
   ],
   "source": [
    "qdf= pd.read_csv('../data/from-smiles/SAMPL.csv')\n",
    "smiles = qdf['smiles']\n",
    "dataset = 'FreeSolv'\n",
    "\n",
    "three_ds = []\n",
    "failed_three_ds = []\n",
    "three_ds_path = f'../data/from-smiles/{dataset}-3d/'\n",
    "opt_three_ds = []\n",
    "failed_opt_three_ds = []\n",
    "opt_three_ds_path = f'../data/from-smiles/{dataset}-opt-3d/'\n",
    "two_ds = []\n",
    "two_ds_path = f'../data/from-smiles/{dataset}-2d/'\n",
    "sdf_file = f'{dataset}.sdf'\n",
    "csv_file = f'{dataset}.sdf.csv'\n",
    "\n",
    "target_columns = ['expt']\n",
    "\n",
    "for smile in tqdm(smiles):\n",
    "    try:\n",
    "        mol = Chem.MolFromSmiles(smile)\n",
    "        mol = Chem.AddHs(mol)\n",
    "        mol.SetProp('_Name', smile)\n",
    "        \n",
    "        AllChem.Compute2DCoords(mol)\n",
    "\n",
    "        # Save a copy of the 2D molecule\n",
    "        two_ds.append(mol.__copy__())\n",
    "\n",
    "        if (AllChem.EmbedMolecule(mol, randomSeed = 0xf00d, maxAttempts = 100) == -1):\n",
    "            failed_three_ds.append(smile)\n",
    "            continue\n",
    "        # Save 3D molecule\n",
    "        three_ds.append(mol.__copy__())\n",
    "\n",
    "        if AllChem.MMFFOptimizeMolecule(mol) == -1:\n",
    "            failed_opt_three_ds.append(smile)\n",
    "            continue\n",
    "\n",
    "        # Save optimized 3D molecule\n",
    "        opt_three_ds.append(mol.__copy__())\n",
    "    except Exception as e:\n",
    "        print(e)\n",
    "        continue\n",
    "\n",
    "if not os.path.exists(three_ds_path):\n",
    "    os.makedirs(three_ds_path)\n",
    "\n",
    "if not os.path.exists(opt_three_ds_path):\n",
    "    os.makedirs(opt_three_ds_path)\n",
    "\n",
    "if not os.path.exists(two_ds_path):\n",
    "    os.makedirs(two_ds_path)\n",
    "\n",
    "with Chem.SDWriter(two_ds_path + sdf_file) as writer:\n",
    "    for mol in two_ds:\n",
    "        writer.write(mol)\n",
    "qdf.drop(columns=qdf.columns.difference(target_columns), inplace=False).to_csv(two_ds_path + csv_file, index=False)\n",
    "\n",
    "with Chem.SDWriter(three_ds_path + sdf_file) as writer:\n",
    "    for mol in three_ds:\n",
    "        writer.write(mol)\n",
    "qdf.drop(columns=qdf.columns.difference(target_columns), inplace=False).to_csv(three_ds_path + csv_file, index=False)\n",
    "\n",
    "\n",
    "with Chem.SDWriter(opt_three_ds_path + sdf_file) as writer:\n",
    "    for mol in opt_three_ds:\n",
    "        writer.write(mol)\n",
    "qdf.drop(columns=qdf.columns.difference(target_columns), inplace=False).to_csv(opt_three_ds_path + csv_file, index=False)\n"
   ]
  },
  {
   "cell_type": "markdown",
   "metadata": {},
   "source": [
    "Handling accurate structure of some of the datasets"
   ]
  },
  {
   "cell_type": "code",
   "execution_count": 6,
   "metadata": {},
   "outputs": [
    {
     "name": "stderr",
     "output_type": "stream",
     "text": [
      "[23:40:34] Warning: molecule is tagged as 3D, but all Z coords are zero and 2D stereo markers have been found, marking the mol as 2D.\n",
      "[23:40:34] Warning: molecule is tagged as 3D, but all Z coords are zero and 2D stereo markers have been found, marking the mol as 2D.\n",
      "[23:40:34] Warning: molecule is tagged as 3D, but all Z coords are zero and 2D stereo markers have been found, marking the mol as 2D.\n",
      "[23:40:34] Warning: molecule is tagged as 3D, but all Z coords are zero and 2D stereo markers have been found, marking the mol as 2D.\n",
      "[23:40:34] Warning: molecule is tagged as 3D, but all Z coords are zero and 2D stereo markers have been found, marking the mol as 2D.\n",
      "[23:40:34] Warning: molecule is tagged as 3D, but all Z coords are zero and 2D stereo markers have been found, marking the mol as 2D.\n",
      "[23:40:34] Warning: molecule is tagged as 3D, but all Z coords are zero and 2D stereo markers have been found, marking the mol as 2D.\n",
      "[23:40:34] Warning: molecule is tagged as 3D, but all Z coords are zero and 2D stereo markers have been found, marking the mol as 2D.\n",
      "[23:40:34] Warning: molecule is tagged as 3D, but all Z coords are zero and 2D stereo markers have been found, marking the mol as 2D.\n",
      "[23:40:34] Warning: molecule is tagged as 3D, but all Z coords are zero and 2D stereo markers have been found, marking the mol as 2D.\n",
      "[23:40:34] Warning: molecule is tagged as 3D, but all Z coords are zero and 2D stereo markers have been found, marking the mol as 2D.\n",
      "[23:40:34] Warning: molecule is tagged as 3D, but all Z coords are zero and 2D stereo markers have been found, marking the mol as 2D.\n",
      "[23:40:34] Warning: molecule is tagged as 3D, but all Z coords are zero and 2D stereo markers have been found, marking the mol as 2D.\n",
      "[23:40:34] Warning: molecule is tagged as 3D, but all Z coords are zero and 2D stereo markers have been found, marking the mol as 2D.\n",
      "[23:40:34] Warning: molecule is tagged as 3D, but all Z coords are zero and 2D stereo markers have been found, marking the mol as 2D.\n",
      "[23:40:34] Warning: molecule is tagged as 3D, but all Z coords are zero and 2D stereo markers have been found, marking the mol as 2D.\n",
      "[23:40:34] Warning: molecule is tagged as 3D, but all Z coords are zero and 2D stereo markers have been found, marking the mol as 2D.\n",
      "[23:40:34] Warning: molecule is tagged as 3D, but all Z coords are zero and 2D stereo markers have been found, marking the mol as 2D.\n",
      "[23:40:34] Warning: molecule is tagged as 3D, but all Z coords are zero and 2D stereo markers have been found, marking the mol as 2D.\n"
     ]
    }
   ],
   "source": [
    "dataset = 'qm7'\n",
    "target_columns = ['u0_atom']\n",
    "csv_path = f'../data/from-smiles/{dataset}.csv'\n",
    "sdf_dir_path = f'../data/from-smiles/{dataset}/'\n",
    "storing_path = f'../data/from-smiles/{dataset}-accurate/'\n",
    "indices = []\n",
    "mols = []\n",
    "\n",
    "for file in os.listdir(sdf_dir_path):\n",
    "    if file.endswith('.sdf'):\n",
    "        suppl = Chem.SDMolSupplier(sdf_dir_path + file, removeHs = False, sanitize = False)\n",
    "        mols.append(suppl[0])\n",
    "        indices.append(int(file.split('_')[-1].split('.')[0]))\n",
    "\n",
    "csv_file = pd.read_csv(csv_path)\n",
    "csv_file = csv_file.iloc[indices]\n",
    "csv_file_name = f'{dataset}.sdf.csv'\n",
    "sdf_file_name = f'{dataset}.sdf'\n",
    "\n",
    "if not os.path.exists(storing_path):\n",
    "    os.makedirs(storing_path)\n",
    "\n",
    "with Chem.SDWriter(storing_path + sdf_file_name) as writer:\n",
    "    for mol in mols:\n",
    "        mol.GetConformer().Set3D(True)\n",
    "        writer.write(mol)\n",
    "\n",
    "csv_file.drop(columns=csv_file.columns.difference(target_columns), inplace=False).to_csv(storing_path + csv_file_name, index=False)\n",
    "# csv_file.drop(columns=['smiles'], inplace=False).to_csv(storing_path + csv_file_name, index=False)"
   ]
  },
  {
   "cell_type": "code",
   "execution_count": 11,
   "metadata": {},
   "outputs": [],
   "source": [
    "mols_sample = mols[34:63]\n",
    "mols_sample_smiles = [mol.GetProp('_Name') for mol in mols_sample]\n",
    "\n",
    "csv_file_sample = csv_file.iloc[34:63]\n",
    "csv_file_sample_smiles = csv_file_sample['smiles'].tolist()\n",
    "# # this is idiotic!\n",
    "# for smile in csv_file_sample['smiles']:\n",
    "#     Chem.Kekulize(Chem.MolFromSmiles(smile))\n",
    "#     csv_file_sample_smiles.append(smile)"
   ]
  },
  {
   "cell_type": "code",
   "execution_count": 3,
   "metadata": {},
   "outputs": [],
   "source": [
    "qm7 = Chem.SDMolSupplier('../data/from-smiles/qm7-accurate/qm7.sdf', removeHs = False, sanitize = False)\n",
    "problematic_smiles = []\n",
    "for mol in qm7:\n",
    "    if not mol.GetConformer().Is3D():\n",
    "        problematic_smiles.append(mol.GetProp('_Name'))\n",
    "\n",
    "        "
   ]
  },
  {
   "cell_type": "code",
   "execution_count": null,
   "metadata": {},
   "outputs": [],
   "source": []
  }
 ],
 "metadata": {
  "kernelspec": {
   "display_name": "MPP",
   "language": "python",
   "name": "python3"
  },
  "language_info": {
   "codemirror_mode": {
    "name": "ipython",
    "version": 3
   },
   "file_extension": ".py",
   "mimetype": "text/x-python",
   "name": "python",
   "nbconvert_exporter": "python",
   "pygments_lexer": "ipython3",
   "version": "3.12.3"
  }
 },
 "nbformat": 4,
 "nbformat_minor": 2
}
